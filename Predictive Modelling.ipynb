{
 "cells": [
  {
   "cell_type": "code",
   "execution_count": 148,
   "metadata": {},
   "outputs": [],
   "source": [
    "import numpy as np \n",
    "import pandas as pd\n",
    "\n",
    "import matplotlib.pyplot as plt\n",
    "\n",
    "from sklearn.impute import SimpleImputer\n",
    "from sklearn.model_selection import train_test_split\n",
    "\n",
    "from sklearn import metrics\n",
    "from sklearn.metrics import mean_absolute_error"
   ]
  },
  {
   "cell_type": "markdown",
   "metadata": {},
   "source": [
    "# I merged the test set to my train set previously on excel"
   ]
  },
  {
   "cell_type": "code",
   "execution_count": 2,
   "metadata": {},
   "outputs": [],
   "source": [
    "df_fc = pd.read_csv('C:/Users/shrut/Documents/Shruti admin/Canada 1/QU/Module 3/Predictive Modelling/92422_214915_bundle_archive/fulfilment_center_info.csv')\n",
    "df_meal = pd.read_csv('C:/Users/shrut/Documents/Shruti admin/Canada 1/QU/Module 3/Predictive Modelling/92422_214915_bundle_archive/meal_info.csv')\n",
    "df_train = pd.read_csv('C:/Users/shrut/Documents/Shruti admin/Canada 1/QU/Module 3/Predictive Modelling/92422_214915_bundle_archive/train.csv')"
   ]
  },
  {
   "cell_type": "code",
   "execution_count": 3,
   "metadata": {},
   "outputs": [],
   "source": [
    "#merging the datasets df_fc and df_meal to df_train and df_test using the meal_id and center_id\n",
    "df_train = pd.merge(df_train, df_fc,\n",
    "                    how=\"left\",\n",
    "                    left_on='center_id',\n",
    "                    right_on='center_id')\n",
    "\n",
    "df_train = pd.merge(df_train, df_meal,\n",
    "                    how='left',\n",
    "                    left_on='meal_id',\n",
    "                    right_on='meal_id')"
   ]
  },
  {
   "cell_type": "code",
   "execution_count": 4,
   "metadata": {},
   "outputs": [
    {
     "data": {
      "text/html": [
       "<div>\n",
       "<style scoped>\n",
       "    .dataframe tbody tr th:only-of-type {\n",
       "        vertical-align: middle;\n",
       "    }\n",
       "\n",
       "    .dataframe tbody tr th {\n",
       "        vertical-align: top;\n",
       "    }\n",
       "\n",
       "    .dataframe thead th {\n",
       "        text-align: right;\n",
       "    }\n",
       "</style>\n",
       "<table border=\"1\" class=\"dataframe\">\n",
       "  <thead>\n",
       "    <tr style=\"text-align: right;\">\n",
       "      <th></th>\n",
       "      <th>id</th>\n",
       "      <th>week</th>\n",
       "      <th>center_id</th>\n",
       "      <th>meal_id</th>\n",
       "      <th>checkout_price</th>\n",
       "      <th>base_price</th>\n",
       "      <th>emailer_for_promotion</th>\n",
       "      <th>homepage_featured</th>\n",
       "      <th>num_orders</th>\n",
       "      <th>city_code</th>\n",
       "      <th>region_code</th>\n",
       "      <th>center_type</th>\n",
       "      <th>op_area</th>\n",
       "      <th>category</th>\n",
       "      <th>cuisine</th>\n",
       "    </tr>\n",
       "  </thead>\n",
       "  <tbody>\n",
       "    <tr>\n",
       "      <th>489116</th>\n",
       "      <td>1250239</td>\n",
       "      <td>155</td>\n",
       "      <td>61</td>\n",
       "      <td>1543</td>\n",
       "      <td>482.09</td>\n",
       "      <td>484.09</td>\n",
       "      <td>0</td>\n",
       "      <td>0</td>\n",
       "      <td>NaN</td>\n",
       "      <td>473</td>\n",
       "      <td>77</td>\n",
       "      <td>TYPE_A</td>\n",
       "      <td>4.5</td>\n",
       "      <td>Desert</td>\n",
       "      <td>Indian</td>\n",
       "    </tr>\n",
       "    <tr>\n",
       "      <th>489117</th>\n",
       "      <td>1039516</td>\n",
       "      <td>155</td>\n",
       "      <td>61</td>\n",
       "      <td>2304</td>\n",
       "      <td>483.09</td>\n",
       "      <td>483.09</td>\n",
       "      <td>0</td>\n",
       "      <td>0</td>\n",
       "      <td>NaN</td>\n",
       "      <td>473</td>\n",
       "      <td>77</td>\n",
       "      <td>TYPE_A</td>\n",
       "      <td>4.5</td>\n",
       "      <td>Desert</td>\n",
       "      <td>Indian</td>\n",
       "    </tr>\n",
       "    <tr>\n",
       "      <th>489118</th>\n",
       "      <td>1158107</td>\n",
       "      <td>155</td>\n",
       "      <td>61</td>\n",
       "      <td>2664</td>\n",
       "      <td>322.07</td>\n",
       "      <td>323.07</td>\n",
       "      <td>0</td>\n",
       "      <td>0</td>\n",
       "      <td>NaN</td>\n",
       "      <td>473</td>\n",
       "      <td>77</td>\n",
       "      <td>TYPE_A</td>\n",
       "      <td>4.5</td>\n",
       "      <td>Salad</td>\n",
       "      <td>Italian</td>\n",
       "    </tr>\n",
       "    <tr>\n",
       "      <th>489119</th>\n",
       "      <td>1444235</td>\n",
       "      <td>155</td>\n",
       "      <td>61</td>\n",
       "      <td>2569</td>\n",
       "      <td>322.07</td>\n",
       "      <td>323.07</td>\n",
       "      <td>0</td>\n",
       "      <td>0</td>\n",
       "      <td>NaN</td>\n",
       "      <td>473</td>\n",
       "      <td>77</td>\n",
       "      <td>TYPE_A</td>\n",
       "      <td>4.5</td>\n",
       "      <td>Salad</td>\n",
       "      <td>Italian</td>\n",
       "    </tr>\n",
       "    <tr>\n",
       "      <th>489120</th>\n",
       "      <td>1291286</td>\n",
       "      <td>155</td>\n",
       "      <td>61</td>\n",
       "      <td>2490</td>\n",
       "      <td>276.45</td>\n",
       "      <td>276.45</td>\n",
       "      <td>0</td>\n",
       "      <td>0</td>\n",
       "      <td>NaN</td>\n",
       "      <td>473</td>\n",
       "      <td>77</td>\n",
       "      <td>TYPE_A</td>\n",
       "      <td>4.5</td>\n",
       "      <td>Salad</td>\n",
       "      <td>Italian</td>\n",
       "    </tr>\n",
       "  </tbody>\n",
       "</table>\n",
       "</div>"
      ],
      "text/plain": [
       "             id  week  center_id  meal_id  checkout_price  base_price  \\\n",
       "489116  1250239   155         61     1543          482.09      484.09   \n",
       "489117  1039516   155         61     2304          483.09      483.09   \n",
       "489118  1158107   155         61     2664          322.07      323.07   \n",
       "489119  1444235   155         61     2569          322.07      323.07   \n",
       "489120  1291286   155         61     2490          276.45      276.45   \n",
       "\n",
       "        emailer_for_promotion  homepage_featured  num_orders  city_code  \\\n",
       "489116                      0                  0         NaN        473   \n",
       "489117                      0                  0         NaN        473   \n",
       "489118                      0                  0         NaN        473   \n",
       "489119                      0                  0         NaN        473   \n",
       "489120                      0                  0         NaN        473   \n",
       "\n",
       "        region_code center_type  op_area category  cuisine  \n",
       "489116           77      TYPE_A      4.5   Desert   Indian  \n",
       "489117           77      TYPE_A      4.5   Desert   Indian  \n",
       "489118           77      TYPE_A      4.5    Salad  Italian  \n",
       "489119           77      TYPE_A      4.5    Salad  Italian  \n",
       "489120           77      TYPE_A      4.5    Salad  Italian  "
      ]
     },
     "execution_count": 4,
     "metadata": {},
     "output_type": "execute_result"
    }
   ],
   "source": [
    "df_train.head()\n",
    "df_train.tail()"
   ]
  },
  {
   "cell_type": "code",
   "execution_count": 5,
   "metadata": {},
   "outputs": [
    {
     "name": "stdout",
     "output_type": "stream",
     "text": [
      "<class 'pandas.core.frame.DataFrame'>\n",
      "Int64Index: 489121 entries, 0 to 489120\n",
      "Data columns (total 15 columns):\n",
      " #   Column                 Non-Null Count   Dtype  \n",
      "---  ------                 --------------   -----  \n",
      " 0   id                     489121 non-null  int64  \n",
      " 1   week                   489121 non-null  int64  \n",
      " 2   center_id              489121 non-null  int64  \n",
      " 3   meal_id                489121 non-null  int64  \n",
      " 4   checkout_price         489121 non-null  float64\n",
      " 5   base_price             489121 non-null  float64\n",
      " 6   emailer_for_promotion  489121 non-null  int64  \n",
      " 7   homepage_featured      489121 non-null  int64  \n",
      " 8   num_orders             456548 non-null  float64\n",
      " 9   city_code              489121 non-null  int64  \n",
      " 10  region_code            489121 non-null  int64  \n",
      " 11  center_type            489121 non-null  object \n",
      " 12  op_area                489121 non-null  float64\n",
      " 13  category               489121 non-null  object \n",
      " 14  cuisine                489121 non-null  object \n",
      "dtypes: float64(4), int64(8), object(3)\n",
      "memory usage: 59.7+ MB\n"
     ]
    }
   ],
   "source": [
    "df_train.info()"
   ]
  },
  {
   "cell_type": "code",
   "execution_count": 6,
   "metadata": {},
   "outputs": [],
   "source": [
    "#one-hot encoding\n",
    "df_train = pd.get_dummies(df_train, columns = df_train.select_dtypes(exclude=['int64','float64']).columns, drop_first = True)"
   ]
  },
  {
   "cell_type": "code",
   "execution_count": 7,
   "metadata": {},
   "outputs": [
    {
     "data": {
      "text/html": [
       "<div>\n",
       "<style scoped>\n",
       "    .dataframe tbody tr th:only-of-type {\n",
       "        vertical-align: middle;\n",
       "    }\n",
       "\n",
       "    .dataframe tbody tr th {\n",
       "        vertical-align: top;\n",
       "    }\n",
       "\n",
       "    .dataframe thead th {\n",
       "        text-align: right;\n",
       "    }\n",
       "</style>\n",
       "<table border=\"1\" class=\"dataframe\">\n",
       "  <thead>\n",
       "    <tr style=\"text-align: right;\">\n",
       "      <th></th>\n",
       "      <th>id</th>\n",
       "      <th>week</th>\n",
       "      <th>center_id</th>\n",
       "      <th>meal_id</th>\n",
       "      <th>checkout_price</th>\n",
       "      <th>base_price</th>\n",
       "      <th>emailer_for_promotion</th>\n",
       "      <th>homepage_featured</th>\n",
       "      <th>num_orders</th>\n",
       "      <th>city_code</th>\n",
       "      <th>...</th>\n",
       "      <th>category_Pizza</th>\n",
       "      <th>category_Rice Bowl</th>\n",
       "      <th>category_Salad</th>\n",
       "      <th>category_Sandwich</th>\n",
       "      <th>category_Seafood</th>\n",
       "      <th>category_Soup</th>\n",
       "      <th>category_Starters</th>\n",
       "      <th>cuisine_Indian</th>\n",
       "      <th>cuisine_Italian</th>\n",
       "      <th>cuisine_Thai</th>\n",
       "    </tr>\n",
       "  </thead>\n",
       "  <tbody>\n",
       "    <tr>\n",
       "      <th>489116</th>\n",
       "      <td>1250239</td>\n",
       "      <td>155</td>\n",
       "      <td>61</td>\n",
       "      <td>1543</td>\n",
       "      <td>482.09</td>\n",
       "      <td>484.09</td>\n",
       "      <td>0</td>\n",
       "      <td>0</td>\n",
       "      <td>NaN</td>\n",
       "      <td>473</td>\n",
       "      <td>...</td>\n",
       "      <td>0</td>\n",
       "      <td>0</td>\n",
       "      <td>0</td>\n",
       "      <td>0</td>\n",
       "      <td>0</td>\n",
       "      <td>0</td>\n",
       "      <td>0</td>\n",
       "      <td>1</td>\n",
       "      <td>0</td>\n",
       "      <td>0</td>\n",
       "    </tr>\n",
       "    <tr>\n",
       "      <th>489117</th>\n",
       "      <td>1039516</td>\n",
       "      <td>155</td>\n",
       "      <td>61</td>\n",
       "      <td>2304</td>\n",
       "      <td>483.09</td>\n",
       "      <td>483.09</td>\n",
       "      <td>0</td>\n",
       "      <td>0</td>\n",
       "      <td>NaN</td>\n",
       "      <td>473</td>\n",
       "      <td>...</td>\n",
       "      <td>0</td>\n",
       "      <td>0</td>\n",
       "      <td>0</td>\n",
       "      <td>0</td>\n",
       "      <td>0</td>\n",
       "      <td>0</td>\n",
       "      <td>0</td>\n",
       "      <td>1</td>\n",
       "      <td>0</td>\n",
       "      <td>0</td>\n",
       "    </tr>\n",
       "    <tr>\n",
       "      <th>489118</th>\n",
       "      <td>1158107</td>\n",
       "      <td>155</td>\n",
       "      <td>61</td>\n",
       "      <td>2664</td>\n",
       "      <td>322.07</td>\n",
       "      <td>323.07</td>\n",
       "      <td>0</td>\n",
       "      <td>0</td>\n",
       "      <td>NaN</td>\n",
       "      <td>473</td>\n",
       "      <td>...</td>\n",
       "      <td>0</td>\n",
       "      <td>0</td>\n",
       "      <td>1</td>\n",
       "      <td>0</td>\n",
       "      <td>0</td>\n",
       "      <td>0</td>\n",
       "      <td>0</td>\n",
       "      <td>0</td>\n",
       "      <td>1</td>\n",
       "      <td>0</td>\n",
       "    </tr>\n",
       "    <tr>\n",
       "      <th>489119</th>\n",
       "      <td>1444235</td>\n",
       "      <td>155</td>\n",
       "      <td>61</td>\n",
       "      <td>2569</td>\n",
       "      <td>322.07</td>\n",
       "      <td>323.07</td>\n",
       "      <td>0</td>\n",
       "      <td>0</td>\n",
       "      <td>NaN</td>\n",
       "      <td>473</td>\n",
       "      <td>...</td>\n",
       "      <td>0</td>\n",
       "      <td>0</td>\n",
       "      <td>1</td>\n",
       "      <td>0</td>\n",
       "      <td>0</td>\n",
       "      <td>0</td>\n",
       "      <td>0</td>\n",
       "      <td>0</td>\n",
       "      <td>1</td>\n",
       "      <td>0</td>\n",
       "    </tr>\n",
       "    <tr>\n",
       "      <th>489120</th>\n",
       "      <td>1291286</td>\n",
       "      <td>155</td>\n",
       "      <td>61</td>\n",
       "      <td>2490</td>\n",
       "      <td>276.45</td>\n",
       "      <td>276.45</td>\n",
       "      <td>0</td>\n",
       "      <td>0</td>\n",
       "      <td>NaN</td>\n",
       "      <td>473</td>\n",
       "      <td>...</td>\n",
       "      <td>0</td>\n",
       "      <td>0</td>\n",
       "      <td>1</td>\n",
       "      <td>0</td>\n",
       "      <td>0</td>\n",
       "      <td>0</td>\n",
       "      <td>0</td>\n",
       "      <td>0</td>\n",
       "      <td>1</td>\n",
       "      <td>0</td>\n",
       "    </tr>\n",
       "  </tbody>\n",
       "</table>\n",
       "<p>5 rows × 30 columns</p>\n",
       "</div>"
      ],
      "text/plain": [
       "             id  week  center_id  meal_id  checkout_price  base_price  \\\n",
       "489116  1250239   155         61     1543          482.09      484.09   \n",
       "489117  1039516   155         61     2304          483.09      483.09   \n",
       "489118  1158107   155         61     2664          322.07      323.07   \n",
       "489119  1444235   155         61     2569          322.07      323.07   \n",
       "489120  1291286   155         61     2490          276.45      276.45   \n",
       "\n",
       "        emailer_for_promotion  homepage_featured  num_orders  city_code  ...  \\\n",
       "489116                      0                  0         NaN        473  ...   \n",
       "489117                      0                  0         NaN        473  ...   \n",
       "489118                      0                  0         NaN        473  ...   \n",
       "489119                      0                  0         NaN        473  ...   \n",
       "489120                      0                  0         NaN        473  ...   \n",
       "\n",
       "        category_Pizza  category_Rice Bowl  category_Salad  category_Sandwich  \\\n",
       "489116               0                   0               0                  0   \n",
       "489117               0                   0               0                  0   \n",
       "489118               0                   0               1                  0   \n",
       "489119               0                   0               1                  0   \n",
       "489120               0                   0               1                  0   \n",
       "\n",
       "        category_Seafood  category_Soup  category_Starters  cuisine_Indian  \\\n",
       "489116                 0              0                  0               1   \n",
       "489117                 0              0                  0               1   \n",
       "489118                 0              0                  0               0   \n",
       "489119                 0              0                  0               0   \n",
       "489120                 0              0                  0               0   \n",
       "\n",
       "        cuisine_Italian  cuisine_Thai  \n",
       "489116                0             0  \n",
       "489117                0             0  \n",
       "489118                1             0  \n",
       "489119                1             0  \n",
       "489120                1             0  \n",
       "\n",
       "[5 rows x 30 columns]"
      ]
     },
     "execution_count": 7,
     "metadata": {},
     "output_type": "execute_result"
    }
   ],
   "source": [
    "df_train.head()\n",
    "df_train.tail()"
   ]
  },
  {
   "cell_type": "code",
   "execution_count": 8,
   "metadata": {},
   "outputs": [
    {
     "data": {
      "text/plain": [
       "id                           0\n",
       "week                         0\n",
       "center_id                    0\n",
       "meal_id                      0\n",
       "checkout_price               0\n",
       "base_price                   0\n",
       "emailer_for_promotion        0\n",
       "homepage_featured            0\n",
       "num_orders               32573\n",
       "city_code                    0\n",
       "region_code                  0\n",
       "op_area                      0\n",
       "center_type_TYPE_B           0\n",
       "center_type_TYPE_C           0\n",
       "category_Biryani             0\n",
       "category_Desert              0\n",
       "category_Extras              0\n",
       "category_Fish                0\n",
       "category_Other Snacks        0\n",
       "category_Pasta               0\n",
       "category_Pizza               0\n",
       "category_Rice Bowl           0\n",
       "category_Salad               0\n",
       "category_Sandwich            0\n",
       "category_Seafood             0\n",
       "category_Soup                0\n",
       "category_Starters            0\n",
       "cuisine_Indian               0\n",
       "cuisine_Italian              0\n",
       "cuisine_Thai                 0\n",
       "dtype: int64"
      ]
     },
     "execution_count": 8,
     "metadata": {},
     "output_type": "execute_result"
    }
   ],
   "source": [
    "pd.DataFrame(df_train).isna().sum()"
   ]
  },
  {
   "cell_type": "raw",
   "metadata": {},
   "source": [
    "#since the test set is added to the train, filled the missing values(num_orders - the target variable) from week 146-155 as 0"
   ]
  },
  {
   "cell_type": "code",
   "execution_count": 9,
   "metadata": {},
   "outputs": [],
   "source": [
    "df_train[\"num_orders\"] = df_train[\"num_orders\"].fillna(0)"
   ]
  },
  {
   "cell_type": "code",
   "execution_count": 10,
   "metadata": {},
   "outputs": [
    {
     "name": "stdout",
     "output_type": "stream",
     "text": [
      "<class 'pandas.core.frame.DataFrame'>\n",
      "Int64Index: 489121 entries, 0 to 489120\n",
      "Data columns (total 30 columns):\n",
      " #   Column                 Non-Null Count   Dtype  \n",
      "---  ------                 --------------   -----  \n",
      " 0   id                     489121 non-null  int64  \n",
      " 1   week                   489121 non-null  int64  \n",
      " 2   center_id              489121 non-null  int64  \n",
      " 3   meal_id                489121 non-null  int64  \n",
      " 4   checkout_price         489121 non-null  float64\n",
      " 5   base_price             489121 non-null  float64\n",
      " 6   emailer_for_promotion  489121 non-null  int64  \n",
      " 7   homepage_featured      489121 non-null  int64  \n",
      " 8   num_orders             489121 non-null  float64\n",
      " 9   city_code              489121 non-null  int64  \n",
      " 10  region_code            489121 non-null  int64  \n",
      " 11  op_area                489121 non-null  float64\n",
      " 12  center_type_TYPE_B     489121 non-null  uint8  \n",
      " 13  center_type_TYPE_C     489121 non-null  uint8  \n",
      " 14  category_Biryani       489121 non-null  uint8  \n",
      " 15  category_Desert        489121 non-null  uint8  \n",
      " 16  category_Extras        489121 non-null  uint8  \n",
      " 17  category_Fish          489121 non-null  uint8  \n",
      " 18  category_Other Snacks  489121 non-null  uint8  \n",
      " 19  category_Pasta         489121 non-null  uint8  \n",
      " 20  category_Pizza         489121 non-null  uint8  \n",
      " 21  category_Rice Bowl     489121 non-null  uint8  \n",
      " 22  category_Salad         489121 non-null  uint8  \n",
      " 23  category_Sandwich      489121 non-null  uint8  \n",
      " 24  category_Seafood       489121 non-null  uint8  \n",
      " 25  category_Soup          489121 non-null  uint8  \n",
      " 26  category_Starters      489121 non-null  uint8  \n",
      " 27  cuisine_Indian         489121 non-null  uint8  \n",
      " 28  cuisine_Italian        489121 non-null  uint8  \n",
      " 29  cuisine_Thai           489121 non-null  uint8  \n",
      "dtypes: float64(4), int64(8), uint8(18)\n",
      "memory usage: 56.9 MB\n"
     ]
    },
    {
     "data": {
      "text/html": [
       "<div>\n",
       "<style scoped>\n",
       "    .dataframe tbody tr th:only-of-type {\n",
       "        vertical-align: middle;\n",
       "    }\n",
       "\n",
       "    .dataframe tbody tr th {\n",
       "        vertical-align: top;\n",
       "    }\n",
       "\n",
       "    .dataframe thead th {\n",
       "        text-align: right;\n",
       "    }\n",
       "</style>\n",
       "<table border=\"1\" class=\"dataframe\">\n",
       "  <thead>\n",
       "    <tr style=\"text-align: right;\">\n",
       "      <th></th>\n",
       "      <th>id</th>\n",
       "      <th>week</th>\n",
       "      <th>center_id</th>\n",
       "      <th>meal_id</th>\n",
       "      <th>checkout_price</th>\n",
       "      <th>base_price</th>\n",
       "      <th>emailer_for_promotion</th>\n",
       "      <th>homepage_featured</th>\n",
       "      <th>num_orders</th>\n",
       "      <th>city_code</th>\n",
       "      <th>...</th>\n",
       "      <th>category_Pizza</th>\n",
       "      <th>category_Rice Bowl</th>\n",
       "      <th>category_Salad</th>\n",
       "      <th>category_Sandwich</th>\n",
       "      <th>category_Seafood</th>\n",
       "      <th>category_Soup</th>\n",
       "      <th>category_Starters</th>\n",
       "      <th>cuisine_Indian</th>\n",
       "      <th>cuisine_Italian</th>\n",
       "      <th>cuisine_Thai</th>\n",
       "    </tr>\n",
       "  </thead>\n",
       "  <tbody>\n",
       "    <tr>\n",
       "      <th>489116</th>\n",
       "      <td>1250239</td>\n",
       "      <td>155</td>\n",
       "      <td>61</td>\n",
       "      <td>1543</td>\n",
       "      <td>482.09</td>\n",
       "      <td>484.09</td>\n",
       "      <td>0</td>\n",
       "      <td>0</td>\n",
       "      <td>0.0</td>\n",
       "      <td>473</td>\n",
       "      <td>...</td>\n",
       "      <td>0</td>\n",
       "      <td>0</td>\n",
       "      <td>0</td>\n",
       "      <td>0</td>\n",
       "      <td>0</td>\n",
       "      <td>0</td>\n",
       "      <td>0</td>\n",
       "      <td>1</td>\n",
       "      <td>0</td>\n",
       "      <td>0</td>\n",
       "    </tr>\n",
       "    <tr>\n",
       "      <th>489117</th>\n",
       "      <td>1039516</td>\n",
       "      <td>155</td>\n",
       "      <td>61</td>\n",
       "      <td>2304</td>\n",
       "      <td>483.09</td>\n",
       "      <td>483.09</td>\n",
       "      <td>0</td>\n",
       "      <td>0</td>\n",
       "      <td>0.0</td>\n",
       "      <td>473</td>\n",
       "      <td>...</td>\n",
       "      <td>0</td>\n",
       "      <td>0</td>\n",
       "      <td>0</td>\n",
       "      <td>0</td>\n",
       "      <td>0</td>\n",
       "      <td>0</td>\n",
       "      <td>0</td>\n",
       "      <td>1</td>\n",
       "      <td>0</td>\n",
       "      <td>0</td>\n",
       "    </tr>\n",
       "    <tr>\n",
       "      <th>489118</th>\n",
       "      <td>1158107</td>\n",
       "      <td>155</td>\n",
       "      <td>61</td>\n",
       "      <td>2664</td>\n",
       "      <td>322.07</td>\n",
       "      <td>323.07</td>\n",
       "      <td>0</td>\n",
       "      <td>0</td>\n",
       "      <td>0.0</td>\n",
       "      <td>473</td>\n",
       "      <td>...</td>\n",
       "      <td>0</td>\n",
       "      <td>0</td>\n",
       "      <td>1</td>\n",
       "      <td>0</td>\n",
       "      <td>0</td>\n",
       "      <td>0</td>\n",
       "      <td>0</td>\n",
       "      <td>0</td>\n",
       "      <td>1</td>\n",
       "      <td>0</td>\n",
       "    </tr>\n",
       "    <tr>\n",
       "      <th>489119</th>\n",
       "      <td>1444235</td>\n",
       "      <td>155</td>\n",
       "      <td>61</td>\n",
       "      <td>2569</td>\n",
       "      <td>322.07</td>\n",
       "      <td>323.07</td>\n",
       "      <td>0</td>\n",
       "      <td>0</td>\n",
       "      <td>0.0</td>\n",
       "      <td>473</td>\n",
       "      <td>...</td>\n",
       "      <td>0</td>\n",
       "      <td>0</td>\n",
       "      <td>1</td>\n",
       "      <td>0</td>\n",
       "      <td>0</td>\n",
       "      <td>0</td>\n",
       "      <td>0</td>\n",
       "      <td>0</td>\n",
       "      <td>1</td>\n",
       "      <td>0</td>\n",
       "    </tr>\n",
       "    <tr>\n",
       "      <th>489120</th>\n",
       "      <td>1291286</td>\n",
       "      <td>155</td>\n",
       "      <td>61</td>\n",
       "      <td>2490</td>\n",
       "      <td>276.45</td>\n",
       "      <td>276.45</td>\n",
       "      <td>0</td>\n",
       "      <td>0</td>\n",
       "      <td>0.0</td>\n",
       "      <td>473</td>\n",
       "      <td>...</td>\n",
       "      <td>0</td>\n",
       "      <td>0</td>\n",
       "      <td>1</td>\n",
       "      <td>0</td>\n",
       "      <td>0</td>\n",
       "      <td>0</td>\n",
       "      <td>0</td>\n",
       "      <td>0</td>\n",
       "      <td>1</td>\n",
       "      <td>0</td>\n",
       "    </tr>\n",
       "  </tbody>\n",
       "</table>\n",
       "<p>5 rows × 30 columns</p>\n",
       "</div>"
      ],
      "text/plain": [
       "             id  week  center_id  meal_id  checkout_price  base_price  \\\n",
       "489116  1250239   155         61     1543          482.09      484.09   \n",
       "489117  1039516   155         61     2304          483.09      483.09   \n",
       "489118  1158107   155         61     2664          322.07      323.07   \n",
       "489119  1444235   155         61     2569          322.07      323.07   \n",
       "489120  1291286   155         61     2490          276.45      276.45   \n",
       "\n",
       "        emailer_for_promotion  homepage_featured  num_orders  city_code  ...  \\\n",
       "489116                      0                  0         0.0        473  ...   \n",
       "489117                      0                  0         0.0        473  ...   \n",
       "489118                      0                  0         0.0        473  ...   \n",
       "489119                      0                  0         0.0        473  ...   \n",
       "489120                      0                  0         0.0        473  ...   \n",
       "\n",
       "        category_Pizza  category_Rice Bowl  category_Salad  category_Sandwich  \\\n",
       "489116               0                   0               0                  0   \n",
       "489117               0                   0               0                  0   \n",
       "489118               0                   0               1                  0   \n",
       "489119               0                   0               1                  0   \n",
       "489120               0                   0               1                  0   \n",
       "\n",
       "        category_Seafood  category_Soup  category_Starters  cuisine_Indian  \\\n",
       "489116                 0              0                  0               1   \n",
       "489117                 0              0                  0               1   \n",
       "489118                 0              0                  0               0   \n",
       "489119                 0              0                  0               0   \n",
       "489120                 0              0                  0               0   \n",
       "\n",
       "        cuisine_Italian  cuisine_Thai  \n",
       "489116                0             0  \n",
       "489117                0             0  \n",
       "489118                1             0  \n",
       "489119                1             0  \n",
       "489120                1             0  \n",
       "\n",
       "[5 rows x 30 columns]"
      ]
     },
     "execution_count": 10,
     "metadata": {},
     "output_type": "execute_result"
    }
   ],
   "source": [
    "df_train.info()\n",
    "df_train.tail()"
   ]
  },
  {
   "cell_type": "code",
   "execution_count": 11,
   "metadata": {},
   "outputs": [
    {
     "data": {
      "text/plain": [
       "id                       0\n",
       "week                     0\n",
       "center_id                0\n",
       "meal_id                  0\n",
       "checkout_price           0\n",
       "base_price               0\n",
       "emailer_for_promotion    0\n",
       "homepage_featured        0\n",
       "num_orders               0\n",
       "city_code                0\n",
       "region_code              0\n",
       "op_area                  0\n",
       "center_type_TYPE_B       0\n",
       "center_type_TYPE_C       0\n",
       "category_Biryani         0\n",
       "category_Desert          0\n",
       "category_Extras          0\n",
       "category_Fish            0\n",
       "category_Other Snacks    0\n",
       "category_Pasta           0\n",
       "category_Pizza           0\n",
       "category_Rice Bowl       0\n",
       "category_Salad           0\n",
       "category_Sandwich        0\n",
       "category_Seafood         0\n",
       "category_Soup            0\n",
       "category_Starters        0\n",
       "cuisine_Indian           0\n",
       "cuisine_Italian          0\n",
       "cuisine_Thai             0\n",
       "dtype: int64"
      ]
     },
     "execution_count": 11,
     "metadata": {},
     "output_type": "execute_result"
    }
   ],
   "source": [
    "pd.DataFrame(df_train).isna().sum()"
   ]
  },
  {
   "cell_type": "code",
   "execution_count": 12,
   "metadata": {},
   "outputs": [],
   "source": [
    "train = df_train[df_train['week'] <= 145].copy()"
   ]
  },
  {
   "cell_type": "code",
   "execution_count": 13,
   "metadata": {},
   "outputs": [],
   "source": [
    "y = train['num_orders']\n",
    "X = train.drop(['id', 'num_orders'], axis=1)"
   ]
  },
  {
   "cell_type": "code",
   "execution_count": 14,
   "metadata": {},
   "outputs": [
    {
     "data": {
      "text/plain": [
       "456543     68.0\n",
       "456544     42.0\n",
       "456545    501.0\n",
       "456546    729.0\n",
       "456547    162.0\n",
       "Name: num_orders, dtype: float64"
      ]
     },
     "execution_count": 14,
     "metadata": {},
     "output_type": "execute_result"
    }
   ],
   "source": [
    "X.tail()\n",
    "y.tail()"
   ]
  },
  {
   "cell_type": "raw",
   "metadata": {},
   "source": [
    "# Splitting into test and train"
   ]
  },
  {
   "cell_type": "code",
   "execution_count": 15,
   "metadata": {},
   "outputs": [],
   "source": [
    "from sklearn.model_selection import train_test_split\n",
    "X_train, X_test, y_train, y_test = train_test_split(X,y, test_size = 0.20, random_state=42)"
   ]
  },
  {
   "cell_type": "markdown",
   "metadata": {},
   "source": [
    "# Linear Regression Model"
   ]
  },
  {
   "cell_type": "code",
   "execution_count": 16,
   "metadata": {},
   "outputs": [
    {
     "data": {
      "text/plain": [
       "LinearRegression(copy_X=True, fit_intercept=True, n_jobs=None, normalize=False)"
      ]
     },
     "execution_count": 16,
     "metadata": {},
     "output_type": "execute_result"
    }
   ],
   "source": [
    "from sklearn.linear_model import LinearRegression\n",
    "regressor = LinearRegression()\n",
    "regressor.fit(X_train, y_train)"
   ]
  },
  {
   "cell_type": "code",
   "execution_count": 17,
   "metadata": {},
   "outputs": [
    {
     "data": {
      "text/plain": [
       "array([-4.65661681e-01,  3.81012651e+02,  2.25821331e+02, ...,\n",
       "        5.39710466e+02,  1.01178137e+02,  4.39807152e+02])"
      ]
     },
     "execution_count": 17,
     "metadata": {},
     "output_type": "execute_result"
    }
   ],
   "source": [
    "Y_Pred = regressor.predict(X_test)\n",
    "Y_Pred"
   ]
  },
  {
   "cell_type": "code",
   "execution_count": 18,
   "metadata": {},
   "outputs": [
    {
     "data": {
      "text/html": [
       "<div>\n",
       "<style scoped>\n",
       "    .dataframe tbody tr th:only-of-type {\n",
       "        vertical-align: middle;\n",
       "    }\n",
       "\n",
       "    .dataframe tbody tr th {\n",
       "        vertical-align: top;\n",
       "    }\n",
       "\n",
       "    .dataframe thead th {\n",
       "        text-align: right;\n",
       "    }\n",
       "</style>\n",
       "<table border=\"1\" class=\"dataframe\">\n",
       "  <thead>\n",
       "    <tr style=\"text-align: right;\">\n",
       "      <th></th>\n",
       "      <th>week</th>\n",
       "      <th>center_id</th>\n",
       "      <th>meal_id</th>\n",
       "      <th>checkout_price</th>\n",
       "      <th>base_price</th>\n",
       "      <th>emailer_for_promotion</th>\n",
       "      <th>homepage_featured</th>\n",
       "      <th>city_code</th>\n",
       "      <th>region_code</th>\n",
       "      <th>op_area</th>\n",
       "      <th>...</th>\n",
       "      <th>category_Pizza</th>\n",
       "      <th>category_Rice Bowl</th>\n",
       "      <th>category_Salad</th>\n",
       "      <th>category_Sandwich</th>\n",
       "      <th>category_Seafood</th>\n",
       "      <th>category_Soup</th>\n",
       "      <th>category_Starters</th>\n",
       "      <th>cuisine_Indian</th>\n",
       "      <th>cuisine_Italian</th>\n",
       "      <th>cuisine_Thai</th>\n",
       "    </tr>\n",
       "  </thead>\n",
       "  <tbody>\n",
       "    <tr>\n",
       "      <th>203536</th>\n",
       "      <td>68</td>\n",
       "      <td>177</td>\n",
       "      <td>1962</td>\n",
       "      <td>639.23</td>\n",
       "      <td>641.23</td>\n",
       "      <td>0</td>\n",
       "      <td>0</td>\n",
       "      <td>683</td>\n",
       "      <td>56</td>\n",
       "      <td>3.4</td>\n",
       "      <td>...</td>\n",
       "      <td>1</td>\n",
       "      <td>0</td>\n",
       "      <td>0</td>\n",
       "      <td>0</td>\n",
       "      <td>0</td>\n",
       "      <td>0</td>\n",
       "      <td>0</td>\n",
       "      <td>0</td>\n",
       "      <td>0</td>\n",
       "      <td>0</td>\n",
       "    </tr>\n",
       "    <tr>\n",
       "      <th>301801</th>\n",
       "      <td>98</td>\n",
       "      <td>29</td>\n",
       "      <td>2707</td>\n",
       "      <td>177.57</td>\n",
       "      <td>177.57</td>\n",
       "      <td>0</td>\n",
       "      <td>0</td>\n",
       "      <td>526</td>\n",
       "      <td>34</td>\n",
       "      <td>4.0</td>\n",
       "      <td>...</td>\n",
       "      <td>0</td>\n",
       "      <td>0</td>\n",
       "      <td>0</td>\n",
       "      <td>0</td>\n",
       "      <td>0</td>\n",
       "      <td>0</td>\n",
       "      <td>0</td>\n",
       "      <td>0</td>\n",
       "      <td>1</td>\n",
       "      <td>0</td>\n",
       "    </tr>\n",
       "    <tr>\n",
       "      <th>254032</th>\n",
       "      <td>84</td>\n",
       "      <td>83</td>\n",
       "      <td>2640</td>\n",
       "      <td>282.33</td>\n",
       "      <td>280.33</td>\n",
       "      <td>0</td>\n",
       "      <td>0</td>\n",
       "      <td>659</td>\n",
       "      <td>77</td>\n",
       "      <td>5.3</td>\n",
       "      <td>...</td>\n",
       "      <td>0</td>\n",
       "      <td>0</td>\n",
       "      <td>0</td>\n",
       "      <td>0</td>\n",
       "      <td>0</td>\n",
       "      <td>0</td>\n",
       "      <td>1</td>\n",
       "      <td>0</td>\n",
       "      <td>0</td>\n",
       "      <td>1</td>\n",
       "    </tr>\n",
       "    <tr>\n",
       "      <th>339158</th>\n",
       "      <td>110</td>\n",
       "      <td>124</td>\n",
       "      <td>2304</td>\n",
       "      <td>474.39</td>\n",
       "      <td>474.39</td>\n",
       "      <td>0</td>\n",
       "      <td>0</td>\n",
       "      <td>590</td>\n",
       "      <td>56</td>\n",
       "      <td>4.0</td>\n",
       "      <td>...</td>\n",
       "      <td>0</td>\n",
       "      <td>0</td>\n",
       "      <td>0</td>\n",
       "      <td>0</td>\n",
       "      <td>0</td>\n",
       "      <td>0</td>\n",
       "      <td>0</td>\n",
       "      <td>1</td>\n",
       "      <td>0</td>\n",
       "      <td>0</td>\n",
       "    </tr>\n",
       "    <tr>\n",
       "      <th>3203</th>\n",
       "      <td>2</td>\n",
       "      <td>52</td>\n",
       "      <td>2539</td>\n",
       "      <td>133.92</td>\n",
       "      <td>133.92</td>\n",
       "      <td>0</td>\n",
       "      <td>0</td>\n",
       "      <td>685</td>\n",
       "      <td>56</td>\n",
       "      <td>5.6</td>\n",
       "      <td>...</td>\n",
       "      <td>0</td>\n",
       "      <td>0</td>\n",
       "      <td>0</td>\n",
       "      <td>0</td>\n",
       "      <td>0</td>\n",
       "      <td>0</td>\n",
       "      <td>0</td>\n",
       "      <td>0</td>\n",
       "      <td>0</td>\n",
       "      <td>1</td>\n",
       "    </tr>\n",
       "    <tr>\n",
       "      <th>...</th>\n",
       "      <td>...</td>\n",
       "      <td>...</td>\n",
       "      <td>...</td>\n",
       "      <td>...</td>\n",
       "      <td>...</td>\n",
       "      <td>...</td>\n",
       "      <td>...</td>\n",
       "      <td>...</td>\n",
       "      <td>...</td>\n",
       "      <td>...</td>\n",
       "      <td>...</td>\n",
       "      <td>...</td>\n",
       "      <td>...</td>\n",
       "      <td>...</td>\n",
       "      <td>...</td>\n",
       "      <td>...</td>\n",
       "      <td>...</td>\n",
       "      <td>...</td>\n",
       "      <td>...</td>\n",
       "      <td>...</td>\n",
       "      <td>...</td>\n",
       "    </tr>\n",
       "    <tr>\n",
       "      <th>95283</th>\n",
       "      <td>33</td>\n",
       "      <td>50</td>\n",
       "      <td>1525</td>\n",
       "      <td>292.03</td>\n",
       "      <td>292.03</td>\n",
       "      <td>0</td>\n",
       "      <td>0</td>\n",
       "      <td>556</td>\n",
       "      <td>77</td>\n",
       "      <td>4.8</td>\n",
       "      <td>...</td>\n",
       "      <td>0</td>\n",
       "      <td>0</td>\n",
       "      <td>0</td>\n",
       "      <td>0</td>\n",
       "      <td>0</td>\n",
       "      <td>0</td>\n",
       "      <td>0</td>\n",
       "      <td>0</td>\n",
       "      <td>0</td>\n",
       "      <td>1</td>\n",
       "    </tr>\n",
       "    <tr>\n",
       "      <th>282522</th>\n",
       "      <td>92</td>\n",
       "      <td>10</td>\n",
       "      <td>1885</td>\n",
       "      <td>144.56</td>\n",
       "      <td>144.56</td>\n",
       "      <td>0</td>\n",
       "      <td>0</td>\n",
       "      <td>590</td>\n",
       "      <td>56</td>\n",
       "      <td>6.3</td>\n",
       "      <td>...</td>\n",
       "      <td>0</td>\n",
       "      <td>0</td>\n",
       "      <td>0</td>\n",
       "      <td>0</td>\n",
       "      <td>0</td>\n",
       "      <td>0</td>\n",
       "      <td>0</td>\n",
       "      <td>0</td>\n",
       "      <td>0</td>\n",
       "      <td>1</td>\n",
       "    </tr>\n",
       "    <tr>\n",
       "      <th>195794</th>\n",
       "      <td>65</td>\n",
       "      <td>61</td>\n",
       "      <td>2539</td>\n",
       "      <td>119.34</td>\n",
       "      <td>118.34</td>\n",
       "      <td>0</td>\n",
       "      <td>0</td>\n",
       "      <td>473</td>\n",
       "      <td>77</td>\n",
       "      <td>4.5</td>\n",
       "      <td>...</td>\n",
       "      <td>0</td>\n",
       "      <td>0</td>\n",
       "      <td>0</td>\n",
       "      <td>0</td>\n",
       "      <td>0</td>\n",
       "      <td>0</td>\n",
       "      <td>0</td>\n",
       "      <td>0</td>\n",
       "      <td>0</td>\n",
       "      <td>1</td>\n",
       "    </tr>\n",
       "    <tr>\n",
       "      <th>446517</th>\n",
       "      <td>142</td>\n",
       "      <td>86</td>\n",
       "      <td>2640</td>\n",
       "      <td>320.13</td>\n",
       "      <td>321.13</td>\n",
       "      <td>0</td>\n",
       "      <td>0</td>\n",
       "      <td>699</td>\n",
       "      <td>85</td>\n",
       "      <td>4.0</td>\n",
       "      <td>...</td>\n",
       "      <td>0</td>\n",
       "      <td>0</td>\n",
       "      <td>0</td>\n",
       "      <td>0</td>\n",
       "      <td>0</td>\n",
       "      <td>0</td>\n",
       "      <td>1</td>\n",
       "      <td>0</td>\n",
       "      <td>0</td>\n",
       "      <td>1</td>\n",
       "    </tr>\n",
       "    <tr>\n",
       "      <th>302061</th>\n",
       "      <td>98</td>\n",
       "      <td>88</td>\n",
       "      <td>1754</td>\n",
       "      <td>292.03</td>\n",
       "      <td>291.03</td>\n",
       "      <td>0</td>\n",
       "      <td>0</td>\n",
       "      <td>526</td>\n",
       "      <td>34</td>\n",
       "      <td>4.1</td>\n",
       "      <td>...</td>\n",
       "      <td>0</td>\n",
       "      <td>0</td>\n",
       "      <td>0</td>\n",
       "      <td>1</td>\n",
       "      <td>0</td>\n",
       "      <td>0</td>\n",
       "      <td>0</td>\n",
       "      <td>0</td>\n",
       "      <td>1</td>\n",
       "      <td>0</td>\n",
       "    </tr>\n",
       "  </tbody>\n",
       "</table>\n",
       "<p>91310 rows × 28 columns</p>\n",
       "</div>"
      ],
      "text/plain": [
       "        week  center_id  meal_id  checkout_price  base_price  \\\n",
       "203536    68        177     1962          639.23      641.23   \n",
       "301801    98         29     2707          177.57      177.57   \n",
       "254032    84         83     2640          282.33      280.33   \n",
       "339158   110        124     2304          474.39      474.39   \n",
       "3203       2         52     2539          133.92      133.92   \n",
       "...      ...        ...      ...             ...         ...   \n",
       "95283     33         50     1525          292.03      292.03   \n",
       "282522    92         10     1885          144.56      144.56   \n",
       "195794    65         61     2539          119.34      118.34   \n",
       "446517   142         86     2640          320.13      321.13   \n",
       "302061    98         88     1754          292.03      291.03   \n",
       "\n",
       "        emailer_for_promotion  homepage_featured  city_code  region_code  \\\n",
       "203536                      0                  0        683           56   \n",
       "301801                      0                  0        526           34   \n",
       "254032                      0                  0        659           77   \n",
       "339158                      0                  0        590           56   \n",
       "3203                        0                  0        685           56   \n",
       "...                       ...                ...        ...          ...   \n",
       "95283                       0                  0        556           77   \n",
       "282522                      0                  0        590           56   \n",
       "195794                      0                  0        473           77   \n",
       "446517                      0                  0        699           85   \n",
       "302061                      0                  0        526           34   \n",
       "\n",
       "        op_area  ...  category_Pizza  category_Rice Bowl  category_Salad  \\\n",
       "203536      3.4  ...               1                   0               0   \n",
       "301801      4.0  ...               0                   0               0   \n",
       "254032      5.3  ...               0                   0               0   \n",
       "339158      4.0  ...               0                   0               0   \n",
       "3203        5.6  ...               0                   0               0   \n",
       "...         ...  ...             ...                 ...             ...   \n",
       "95283       4.8  ...               0                   0               0   \n",
       "282522      6.3  ...               0                   0               0   \n",
       "195794      4.5  ...               0                   0               0   \n",
       "446517      4.0  ...               0                   0               0   \n",
       "302061      4.1  ...               0                   0               0   \n",
       "\n",
       "        category_Sandwich  category_Seafood  category_Soup  category_Starters  \\\n",
       "203536                  0                 0              0                  0   \n",
       "301801                  0                 0              0                  0   \n",
       "254032                  0                 0              0                  1   \n",
       "339158                  0                 0              0                  0   \n",
       "3203                    0                 0              0                  0   \n",
       "...                   ...               ...            ...                ...   \n",
       "95283                   0                 0              0                  0   \n",
       "282522                  0                 0              0                  0   \n",
       "195794                  0                 0              0                  0   \n",
       "446517                  0                 0              0                  1   \n",
       "302061                  1                 0              0                  0   \n",
       "\n",
       "        cuisine_Indian  cuisine_Italian  cuisine_Thai  \n",
       "203536               0                0             0  \n",
       "301801               0                1             0  \n",
       "254032               0                0             1  \n",
       "339158               1                0             0  \n",
       "3203                 0                0             1  \n",
       "...                ...              ...           ...  \n",
       "95283                0                0             1  \n",
       "282522               0                0             1  \n",
       "195794               0                0             1  \n",
       "446517               0                0             1  \n",
       "302061               0                1             0  \n",
       "\n",
       "[91310 rows x 28 columns]"
      ]
     },
     "execution_count": 18,
     "metadata": {},
     "output_type": "execute_result"
    }
   ],
   "source": [
    "X_test"
   ]
  },
  {
   "cell_type": "code",
   "execution_count": 19,
   "metadata": {},
   "outputs": [
    {
     "data": {
      "text/html": [
       "<div>\n",
       "<style scoped>\n",
       "    .dataframe tbody tr th:only-of-type {\n",
       "        vertical-align: middle;\n",
       "    }\n",
       "\n",
       "    .dataframe tbody tr th {\n",
       "        vertical-align: top;\n",
       "    }\n",
       "\n",
       "    .dataframe thead th {\n",
       "        text-align: right;\n",
       "    }\n",
       "</style>\n",
       "<table border=\"1\" class=\"dataframe\">\n",
       "  <thead>\n",
       "    <tr style=\"text-align: right;\">\n",
       "      <th></th>\n",
       "      <th>Actual</th>\n",
       "      <th>Predicted</th>\n",
       "    </tr>\n",
       "  </thead>\n",
       "  <tbody>\n",
       "    <tr>\n",
       "      <th>203536</th>\n",
       "      <td>28.0</td>\n",
       "      <td>-0.465662</td>\n",
       "    </tr>\n",
       "    <tr>\n",
       "      <th>301801</th>\n",
       "      <td>176.0</td>\n",
       "      <td>381.012651</td>\n",
       "    </tr>\n",
       "    <tr>\n",
       "      <th>254032</th>\n",
       "      <td>391.0</td>\n",
       "      <td>225.821331</td>\n",
       "    </tr>\n",
       "    <tr>\n",
       "      <th>339158</th>\n",
       "      <td>14.0</td>\n",
       "      <td>-46.692512</td>\n",
       "    </tr>\n",
       "    <tr>\n",
       "      <th>3203</th>\n",
       "      <td>405.0</td>\n",
       "      <td>647.828491</td>\n",
       "    </tr>\n",
       "    <tr>\n",
       "      <th>...</th>\n",
       "      <td>...</td>\n",
       "      <td>...</td>\n",
       "    </tr>\n",
       "    <tr>\n",
       "      <th>95283</th>\n",
       "      <td>136.0</td>\n",
       "      <td>160.243530</td>\n",
       "    </tr>\n",
       "    <tr>\n",
       "      <th>282522</th>\n",
       "      <td>1608.0</td>\n",
       "      <td>671.644797</td>\n",
       "    </tr>\n",
       "    <tr>\n",
       "      <th>195794</th>\n",
       "      <td>406.0</td>\n",
       "      <td>539.710466</td>\n",
       "    </tr>\n",
       "    <tr>\n",
       "      <th>446517</th>\n",
       "      <td>82.0</td>\n",
       "      <td>101.178137</td>\n",
       "    </tr>\n",
       "    <tr>\n",
       "      <th>302061</th>\n",
       "      <td>405.0</td>\n",
       "      <td>439.807152</td>\n",
       "    </tr>\n",
       "  </tbody>\n",
       "</table>\n",
       "<p>91310 rows × 2 columns</p>\n",
       "</div>"
      ],
      "text/plain": [
       "        Actual   Predicted\n",
       "203536    28.0   -0.465662\n",
       "301801   176.0  381.012651\n",
       "254032   391.0  225.821331\n",
       "339158    14.0  -46.692512\n",
       "3203     405.0  647.828491\n",
       "...        ...         ...\n",
       "95283    136.0  160.243530\n",
       "282522  1608.0  671.644797\n",
       "195794   406.0  539.710466\n",
       "446517    82.0  101.178137\n",
       "302061   405.0  439.807152\n",
       "\n",
       "[91310 rows x 2 columns]"
      ]
     },
     "execution_count": 19,
     "metadata": {},
     "output_type": "execute_result"
    }
   ],
   "source": [
    "dataset=pd.DataFrame({'Actual':y_test, 'Predicted':Y_Pred})\n",
    "dataset"
   ]
  },
  {
   "cell_type": "code",
   "execution_count": 150,
   "metadata": {},
   "outputs": [
    {
     "data": {
      "text/plain": [
       "161.33298200795033"
      ]
     },
     "execution_count": 150,
     "metadata": {},
     "output_type": "execute_result"
    }
   ],
   "source": [
    "MAE_lr = metrics.mean_absolute_error(y_test, Y_Pred)\n",
    "MAE_lr"
   ]
  },
  {
   "cell_type": "markdown",
   "metadata": {},
   "source": [
    "# Decision Tree Regressor "
   ]
  },
  {
   "cell_type": "code",
   "execution_count": 21,
   "metadata": {},
   "outputs": [],
   "source": [
    "from sklearn.tree import DecisionTreeRegressor"
   ]
  },
  {
   "cell_type": "code",
   "execution_count": 22,
   "metadata": {},
   "outputs": [],
   "source": [
    "DecisionTreeRegModel = DecisionTreeRegressor()"
   ]
  },
  {
   "cell_type": "code",
   "execution_count": 23,
   "metadata": {},
   "outputs": [
    {
     "data": {
      "text/plain": [
       "DecisionTreeRegressor(ccp_alpha=0.0, criterion='mse', max_depth=None,\n",
       "                      max_features=None, max_leaf_nodes=None,\n",
       "                      min_impurity_decrease=0.0, min_impurity_split=None,\n",
       "                      min_samples_leaf=1, min_samples_split=2,\n",
       "                      min_weight_fraction_leaf=0.0, presort='deprecated',\n",
       "                      random_state=None, splitter='best')"
      ]
     },
     "execution_count": 23,
     "metadata": {},
     "output_type": "execute_result"
    }
   ],
   "source": [
    "DecisionTreeRegModel.fit(X_train,y_train)"
   ]
  },
  {
   "cell_type": "code",
   "execution_count": 24,
   "metadata": {},
   "outputs": [],
   "source": [
    "y_preddt = DecisionTreeRegModel.predict(X_test)"
   ]
  },
  {
   "cell_type": "code",
   "execution_count": 25,
   "metadata": {},
   "outputs": [
    {
     "data": {
      "text/html": [
       "<div>\n",
       "<style scoped>\n",
       "    .dataframe tbody tr th:only-of-type {\n",
       "        vertical-align: middle;\n",
       "    }\n",
       "\n",
       "    .dataframe tbody tr th {\n",
       "        vertical-align: top;\n",
       "    }\n",
       "\n",
       "    .dataframe thead th {\n",
       "        text-align: right;\n",
       "    }\n",
       "</style>\n",
       "<table border=\"1\" class=\"dataframe\">\n",
       "  <thead>\n",
       "    <tr style=\"text-align: right;\">\n",
       "      <th></th>\n",
       "      <th>Actual</th>\n",
       "      <th>Predicted</th>\n",
       "    </tr>\n",
       "  </thead>\n",
       "  <tbody>\n",
       "    <tr>\n",
       "      <th>203536</th>\n",
       "      <td>28.0</td>\n",
       "      <td>81.0</td>\n",
       "    </tr>\n",
       "    <tr>\n",
       "      <th>301801</th>\n",
       "      <td>176.0</td>\n",
       "      <td>271.0</td>\n",
       "    </tr>\n",
       "    <tr>\n",
       "      <th>254032</th>\n",
       "      <td>391.0</td>\n",
       "      <td>284.0</td>\n",
       "    </tr>\n",
       "    <tr>\n",
       "      <th>339158</th>\n",
       "      <td>14.0</td>\n",
       "      <td>26.0</td>\n",
       "    </tr>\n",
       "    <tr>\n",
       "      <th>3203</th>\n",
       "      <td>405.0</td>\n",
       "      <td>393.0</td>\n",
       "    </tr>\n",
       "    <tr>\n",
       "      <th>...</th>\n",
       "      <td>...</td>\n",
       "      <td>...</td>\n",
       "    </tr>\n",
       "    <tr>\n",
       "      <th>95283</th>\n",
       "      <td>136.0</td>\n",
       "      <td>150.0</td>\n",
       "    </tr>\n",
       "    <tr>\n",
       "      <th>282522</th>\n",
       "      <td>1608.0</td>\n",
       "      <td>1322.0</td>\n",
       "    </tr>\n",
       "    <tr>\n",
       "      <th>195794</th>\n",
       "      <td>406.0</td>\n",
       "      <td>284.0</td>\n",
       "    </tr>\n",
       "    <tr>\n",
       "      <th>446517</th>\n",
       "      <td>82.0</td>\n",
       "      <td>67.0</td>\n",
       "    </tr>\n",
       "    <tr>\n",
       "      <th>302061</th>\n",
       "      <td>405.0</td>\n",
       "      <td>378.0</td>\n",
       "    </tr>\n",
       "  </tbody>\n",
       "</table>\n",
       "<p>91310 rows × 2 columns</p>\n",
       "</div>"
      ],
      "text/plain": [
       "        Actual  Predicted\n",
       "203536    28.0       81.0\n",
       "301801   176.0      271.0\n",
       "254032   391.0      284.0\n",
       "339158    14.0       26.0\n",
       "3203     405.0      393.0\n",
       "...        ...        ...\n",
       "95283    136.0      150.0\n",
       "282522  1608.0     1322.0\n",
       "195794   406.0      284.0\n",
       "446517    82.0       67.0\n",
       "302061   405.0      378.0\n",
       "\n",
       "[91310 rows x 2 columns]"
      ]
     },
     "execution_count": 25,
     "metadata": {},
     "output_type": "execute_result"
    }
   ],
   "source": [
    "dt_dataset = pd.DataFrame({'Actual':y_test, 'Predicted':y_preddt})\n",
    "dt_dataset"
   ]
  },
  {
   "cell_type": "code",
   "execution_count": 152,
   "metadata": {},
   "outputs": [
    {
     "data": {
      "text/plain": [
       "89.58740554156171"
      ]
     },
     "execution_count": 152,
     "metadata": {},
     "output_type": "execute_result"
    }
   ],
   "source": [
    "MAE_dt = metrics.mean_absolute_error(y_test, y_preddt)\n",
    "MAE_dt"
   ]
  },
  {
   "cell_type": "raw",
   "metadata": {},
   "source": [
    "#MASE of decision tree regressor and linear regression models"
   ]
  },
  {
   "cell_type": "code",
   "execution_count": 153,
   "metadata": {},
   "outputs": [
    {
     "data": {
      "text/plain": [
       "0.5552950452322696"
      ]
     },
     "execution_count": 153,
     "metadata": {},
     "output_type": "execute_result"
    }
   ],
   "source": [
    "MASE = MAE_dt/MAE_lr \n",
    "MASE"
   ]
  },
  {
   "cell_type": "markdown",
   "metadata": {},
   "source": [
    "# cross validation"
   ]
  },
  {
   "cell_type": "code",
   "execution_count": 58,
   "metadata": {},
   "outputs": [],
   "source": [
    "train1 = df_train[df_train['week'] <= 145].copy()"
   ]
  },
  {
   "cell_type": "raw",
   "metadata": {},
   "source": [
    "#Fold1"
   ]
  },
  {
   "cell_type": "code",
   "execution_count": 59,
   "metadata": {},
   "outputs": [],
   "source": [
    "y1 = train1[(train1['week'] >= 126) & (train1['week'] <= 135)]\n",
    "test_actual1 = y1[['num_orders']]\n",
    "y1 = y1.drop(['id', 'num_orders'], axis=1)"
   ]
  },
  {
   "cell_type": "code",
   "execution_count": 60,
   "metadata": {},
   "outputs": [],
   "source": [
    "x1 = train1[(train1['week'] <= 125) | (train1['week'] >= 136)]\n",
    "train_actual1 = x1[['num_orders']]\n",
    "x1 = x1.drop(['id', 'num_orders'], axis=1)"
   ]
  },
  {
   "cell_type": "code",
   "execution_count": 61,
   "metadata": {},
   "outputs": [
    {
     "data": {
      "text/plain": [
       "DecisionTreeRegressor(ccp_alpha=0.0, criterion='mse', max_depth=None,\n",
       "                      max_features=None, max_leaf_nodes=None,\n",
       "                      min_impurity_decrease=0.0, min_impurity_split=None,\n",
       "                      min_samples_leaf=1, min_samples_split=2,\n",
       "                      min_weight_fraction_leaf=0.0, presort='deprecated',\n",
       "                      random_state=None, splitter='best')"
      ]
     },
     "execution_count": 61,
     "metadata": {},
     "output_type": "execute_result"
    }
   ],
   "source": [
    "DecisionTreeRegModel.fit(x1,train_actual1)"
   ]
  },
  {
   "cell_type": "code",
   "execution_count": 62,
   "metadata": {},
   "outputs": [
    {
     "data": {
      "text/plain": [
       "array([229., 202., 270., ..., 107., 527., 215.])"
      ]
     },
     "execution_count": 62,
     "metadata": {},
     "output_type": "execute_result"
    }
   ],
   "source": [
    "y_orders1 = DecisionTreeRegModel.predict(y1)\n",
    "y_orders1"
   ]
  },
  {
   "cell_type": "code",
   "execution_count": 155,
   "metadata": {},
   "outputs": [
    {
     "data": {
      "text/plain": [
       "101.77227300426568"
      ]
     },
     "execution_count": 155,
     "metadata": {},
     "output_type": "execute_result"
    }
   ],
   "source": [
    "MAE_fold1 = metrics.mean_absolute_error(test_actual1, y_orders1)\n",
    "MAE_fold1"
   ]
  },
  {
   "cell_type": "raw",
   "metadata": {},
   "source": [
    "#MASE of fold1 and base model"
   ]
  },
  {
   "cell_type": "code",
   "execution_count": 158,
   "metadata": {},
   "outputs": [
    {
     "data": {
      "text/plain": [
       "0.6308212476928645"
      ]
     },
     "execution_count": 158,
     "metadata": {},
     "output_type": "execute_result"
    }
   ],
   "source": [
    "MASE_fold1 = MAE_fold1/MAE_lr \n",
    "MASE_fold1"
   ]
  },
  {
   "cell_type": "raw",
   "metadata": {},
   "source": [
    "#Fold 2"
   ]
  },
  {
   "cell_type": "code",
   "execution_count": 78,
   "metadata": {},
   "outputs": [],
   "source": [
    "y2 = train1[(train1['week'] >= 127) & (train1['week'] <= 136)]\n",
    "test_actual2 = y2[['num_orders']]\n",
    "y2 = y2.drop(['id', 'num_orders'], axis=1)"
   ]
  },
  {
   "cell_type": "code",
   "execution_count": 79,
   "metadata": {},
   "outputs": [],
   "source": [
    "x2 = train1[(train1['week'] <= 126) | (train1['week'] >= 137)]\n",
    "train_actual2 = x2[['num_orders']]\n",
    "x2 = x2.drop(['id', 'num_orders'], axis=1)"
   ]
  },
  {
   "cell_type": "code",
   "execution_count": 80,
   "metadata": {},
   "outputs": [
    {
     "data": {
      "text/plain": [
       "DecisionTreeRegressor(ccp_alpha=0.0, criterion='mse', max_depth=None,\n",
       "                      max_features=None, max_leaf_nodes=None,\n",
       "                      min_impurity_decrease=0.0, min_impurity_split=None,\n",
       "                      min_samples_leaf=1, min_samples_split=2,\n",
       "                      min_weight_fraction_leaf=0.0, presort='deprecated',\n",
       "                      random_state=None, splitter='best')"
      ]
     },
     "execution_count": 80,
     "metadata": {},
     "output_type": "execute_result"
    }
   ],
   "source": [
    "DecisionTreeRegModel.fit(x2,train_actual2)"
   ]
  },
  {
   "cell_type": "code",
   "execution_count": 81,
   "metadata": {},
   "outputs": [
    {
     "data": {
      "text/plain": [
       "array([123., 109., 108., ..., 109., 432., 339.])"
      ]
     },
     "execution_count": 81,
     "metadata": {},
     "output_type": "execute_result"
    }
   ],
   "source": [
    "y_orders2 = DecisionTreeRegModel.predict(y2)\n",
    "y_orders2"
   ]
  },
  {
   "cell_type": "code",
   "execution_count": 156,
   "metadata": {},
   "outputs": [
    {
     "data": {
      "text/plain": [
       "107.01683973324401"
      ]
     },
     "execution_count": 156,
     "metadata": {},
     "output_type": "execute_result"
    }
   ],
   "source": [
    "MAE_fold2 = metrics.mean_absolute_error(test_actual2, y_orders2)\n",
    "MAE_fold2"
   ]
  },
  {
   "cell_type": "raw",
   "metadata": {},
   "source": [
    "#MASE of fold2 and base model"
   ]
  },
  {
   "cell_type": "code",
   "execution_count": 160,
   "metadata": {},
   "outputs": [
    {
     "data": {
      "text/plain": [
       "0.663328963497187"
      ]
     },
     "execution_count": 160,
     "metadata": {},
     "output_type": "execute_result"
    }
   ],
   "source": [
    "MASE_fold2 = MAE_fold2/MAE_lr \n",
    "MASE_fold2"
   ]
  },
  {
   "cell_type": "raw",
   "metadata": {},
   "source": [
    "#Fold 3"
   ]
  },
  {
   "cell_type": "code",
   "execution_count": 83,
   "metadata": {},
   "outputs": [],
   "source": [
    "y3 = train1[(train1['week'] >= 128) & (train1['week'] <= 137)]\n",
    "test_actual3 = y3[['num_orders']]\n",
    "y3 = y3.drop(['id', 'num_orders'], axis=1)\n",
    "\n",
    "x3 = train1[(train1['week'] <= 127) | (train1['week'] >= 138)]\n",
    "train_actual3 = x3[['num_orders']]\n",
    "x3 = x3.drop(['id', 'num_orders'], axis=1)"
   ]
  },
  {
   "cell_type": "code",
   "execution_count": 84,
   "metadata": {},
   "outputs": [
    {
     "data": {
      "text/plain": [
       "DecisionTreeRegressor(ccp_alpha=0.0, criterion='mse', max_depth=None,\n",
       "                      max_features=None, max_leaf_nodes=None,\n",
       "                      min_impurity_decrease=0.0, min_impurity_split=None,\n",
       "                      min_samples_leaf=1, min_samples_split=2,\n",
       "                      min_weight_fraction_leaf=0.0, presort='deprecated',\n",
       "                      random_state=None, splitter='best')"
      ]
     },
     "execution_count": 84,
     "metadata": {},
     "output_type": "execute_result"
    }
   ],
   "source": [
    "DecisionTreeRegModel.fit(x3,train_actual3)"
   ]
  },
  {
   "cell_type": "code",
   "execution_count": 85,
   "metadata": {},
   "outputs": [
    {
     "data": {
      "text/plain": [
       "array([ 67., 163., 163., ..., 512., 310., 162.])"
      ]
     },
     "execution_count": 85,
     "metadata": {},
     "output_type": "execute_result"
    }
   ],
   "source": [
    "y_orders3 = DecisionTreeRegModel.predict(y3)\n",
    "y_orders3"
   ]
  },
  {
   "cell_type": "code",
   "execution_count": 157,
   "metadata": {},
   "outputs": [
    {
     "data": {
      "text/plain": [
       "106.28265433413455"
      ]
     },
     "execution_count": 157,
     "metadata": {},
     "output_type": "execute_result"
    }
   ],
   "source": [
    "MAE_fold3 = metrics.mean_absolute_error(test_actual3, y_orders3)\n",
    "MAE_fold3"
   ]
  },
  {
   "cell_type": "raw",
   "metadata": {},
   "source": [
    "#MASE of fold3 and base model"
   ]
  },
  {
   "cell_type": "code",
   "execution_count": 161,
   "metadata": {},
   "outputs": [
    {
     "data": {
      "text/plain": [
       "0.6587782176424225"
      ]
     },
     "execution_count": 161,
     "metadata": {},
     "output_type": "execute_result"
    }
   ],
   "source": [
    "MASE_fold3 = MAE_fold3/MAE_lr \n",
    "MASE_fold3"
   ]
  },
  {
   "cell_type": "raw",
   "metadata": {},
   "source": [
    "#Fold4"
   ]
  },
  {
   "cell_type": "code",
   "execution_count": 87,
   "metadata": {},
   "outputs": [],
   "source": [
    "y4 = train1[(train1['week'] >= 129) & (train1['week'] <= 138)]\n",
    "test_actual4 = y4[['num_orders']]\n",
    "y4 = y4.drop(['id', 'num_orders'], axis=1)\n",
    "\n",
    "x4 = train1[(train1['week'] <= 128) | (train1['week'] >= 139)]\n",
    "train_actual4 = x4[['num_orders']]\n",
    "x4 = x4.drop(['id', 'num_orders'], axis=1)"
   ]
  },
  {
   "cell_type": "code",
   "execution_count": 88,
   "metadata": {},
   "outputs": [
    {
     "data": {
      "text/plain": [
       "DecisionTreeRegressor(ccp_alpha=0.0, criterion='mse', max_depth=None,\n",
       "                      max_features=None, max_leaf_nodes=None,\n",
       "                      min_impurity_decrease=0.0, min_impurity_split=None,\n",
       "                      min_samples_leaf=1, min_samples_split=2,\n",
       "                      min_weight_fraction_leaf=0.0, presort='deprecated',\n",
       "                      random_state=None, splitter='best')"
      ]
     },
     "execution_count": 88,
     "metadata": {},
     "output_type": "execute_result"
    }
   ],
   "source": [
    "DecisionTreeRegModel.fit(x4,train_actual4)"
   ]
  },
  {
   "cell_type": "code",
   "execution_count": 89,
   "metadata": {},
   "outputs": [
    {
     "data": {
      "text/plain": [
       "array([107., 136., 134., ..., 366., 284., 217.])"
      ]
     },
     "execution_count": 89,
     "metadata": {},
     "output_type": "execute_result"
    }
   ],
   "source": [
    "y_orders4 = DecisionTreeRegModel.predict(y4)\n",
    "y_orders4"
   ]
  },
  {
   "cell_type": "code",
   "execution_count": 163,
   "metadata": {},
   "outputs": [
    {
     "data": {
      "text/plain": [
       "106.12368028721818"
      ]
     },
     "execution_count": 163,
     "metadata": {},
     "output_type": "execute_result"
    }
   ],
   "source": [
    "MAE_fold4 = metrics.mean_absolute_error(test_actual4, y_orders4)\n",
    "MAE_fold4"
   ]
  },
  {
   "cell_type": "raw",
   "metadata": {},
   "source": [
    "#MASE of fold4 and base model"
   ]
  },
  {
   "cell_type": "code",
   "execution_count": 164,
   "metadata": {},
   "outputs": [
    {
     "data": {
      "text/plain": [
       "0.6577928391727644"
      ]
     },
     "execution_count": 164,
     "metadata": {},
     "output_type": "execute_result"
    }
   ],
   "source": [
    "MASE_fold4 = MAE_fold4/MAE_lr \n",
    "MASE_fold4"
   ]
  },
  {
   "cell_type": "raw",
   "metadata": {},
   "source": [
    "#Fold5"
   ]
  },
  {
   "cell_type": "code",
   "execution_count": 95,
   "metadata": {},
   "outputs": [],
   "source": [
    "y5 = train1[(train1['week'] >= 130) & (train1['week'] <= 139)]\n",
    "test_actual5 = y5[['num_orders']]\n",
    "y5 = y5.drop(['id', 'num_orders'], axis=1)\n",
    "\n",
    "x5 = train1[(train1['week'] <= 129) | (train1['week'] >= 140)]\n",
    "train_actual5 = x5[['num_orders']]\n",
    "x5 = x5.drop(['id', 'num_orders'], axis=1)"
   ]
  },
  {
   "cell_type": "code",
   "execution_count": 96,
   "metadata": {},
   "outputs": [
    {
     "data": {
      "text/plain": [
       "DecisionTreeRegressor(ccp_alpha=0.0, criterion='mse', max_depth=None,\n",
       "                      max_features=None, max_leaf_nodes=None,\n",
       "                      min_impurity_decrease=0.0, min_impurity_split=None,\n",
       "                      min_samples_leaf=1, min_samples_split=2,\n",
       "                      min_weight_fraction_leaf=0.0, presort='deprecated',\n",
       "                      random_state=None, splitter='best')"
      ]
     },
     "execution_count": 96,
     "metadata": {},
     "output_type": "execute_result"
    }
   ],
   "source": [
    "DecisionTreeRegModel.fit(x5,train_actual5)"
   ]
  },
  {
   "cell_type": "code",
   "execution_count": 97,
   "metadata": {},
   "outputs": [
    {
     "data": {
      "text/plain": [
       "array([ 40., 121., 136., ..., 310., 310., 162.])"
      ]
     },
     "execution_count": 97,
     "metadata": {},
     "output_type": "execute_result"
    }
   ],
   "source": [
    "y_orders5 = DecisionTreeRegModel.predict(y5)\n",
    "y_orders5"
   ]
  },
  {
   "cell_type": "code",
   "execution_count": 165,
   "metadata": {},
   "outputs": [
    {
     "data": {
      "text/plain": [
       "101.81582711915995"
      ]
     },
     "execution_count": 165,
     "metadata": {},
     "output_type": "execute_result"
    }
   ],
   "source": [
    "MAE_fold5 = metrics.mean_absolute_error(test_actual5, y_orders5)\n",
    "MAE_fold5"
   ]
  },
  {
   "cell_type": "raw",
   "metadata": {},
   "source": [
    "#MASE of fold5 and base model"
   ]
  },
  {
   "cell_type": "code",
   "execution_count": 166,
   "metadata": {},
   "outputs": [
    {
     "data": {
      "text/plain": [
       "0.6310912118028201"
      ]
     },
     "execution_count": 166,
     "metadata": {},
     "output_type": "execute_result"
    }
   ],
   "source": [
    "MASE_fold5 = MAE_fold5/MAE_lr \n",
    "MASE_fold5"
   ]
  },
  {
   "cell_type": "raw",
   "metadata": {},
   "source": [
    "#Fold 6"
   ]
  },
  {
   "cell_type": "code",
   "execution_count": 99,
   "metadata": {},
   "outputs": [],
   "source": [
    "y6 = train1[(train1['week'] >= 131) & (train1['week'] <= 140)]\n",
    "test_actual6 = y6[['num_orders']]\n",
    "y6 = y6.drop(['id', 'num_orders'], axis=1)\n",
    "\n",
    "x6 = train1[(train1['week'] <= 130) | (train1['week'] >= 141)]\n",
    "train_actual6 = x6[['num_orders']]\n",
    "x6 = x6.drop(['id', 'num_orders'], axis=1)"
   ]
  },
  {
   "cell_type": "code",
   "execution_count": 100,
   "metadata": {},
   "outputs": [
    {
     "data": {
      "text/plain": [
       "DecisionTreeRegressor(ccp_alpha=0.0, criterion='mse', max_depth=None,\n",
       "                      max_features=None, max_leaf_nodes=None,\n",
       "                      min_impurity_decrease=0.0, min_impurity_split=None,\n",
       "                      min_samples_leaf=1, min_samples_split=2,\n",
       "                      min_weight_fraction_leaf=0.0, presort='deprecated',\n",
       "                      random_state=None, splitter='best')"
      ]
     },
     "execution_count": 100,
     "metadata": {},
     "output_type": "execute_result"
    }
   ],
   "source": [
    "DecisionTreeRegModel.fit(x6,train_actual6)"
   ]
  },
  {
   "cell_type": "code",
   "execution_count": 101,
   "metadata": {},
   "outputs": [
    {
     "data": {
      "text/plain": [
       "array([121., 107.,  94., ..., 203., 271., 635.])"
      ]
     },
     "execution_count": 101,
     "metadata": {},
     "output_type": "execute_result"
    }
   ],
   "source": [
    "y_orders6 = DecisionTreeRegModel.predict(y6)\n",
    "y_orders6"
   ]
  },
  {
   "cell_type": "code",
   "execution_count": 167,
   "metadata": {},
   "outputs": [
    {
     "data": {
      "text/plain": [
       "96.38415985909077"
      ]
     },
     "execution_count": 167,
     "metadata": {},
     "output_type": "execute_result"
    }
   ],
   "source": [
    "MAE_fold6 = metrics.mean_absolute_error(test_actual6, y_orders6)\n",
    "MAE_fold6"
   ]
  },
  {
   "cell_type": "raw",
   "metadata": {},
   "source": [
    "#MASE of fold6 and base model"
   ]
  },
  {
   "cell_type": "code",
   "execution_count": 168,
   "metadata": {},
   "outputs": [
    {
     "data": {
      "text/plain": [
       "0.5974237794373692"
      ]
     },
     "execution_count": 168,
     "metadata": {},
     "output_type": "execute_result"
    }
   ],
   "source": [
    "MASE_fold6 = MAE_fold6/MAE_lr \n",
    "MASE_fold6"
   ]
  },
  {
   "cell_type": "raw",
   "metadata": {},
   "source": [
    "#Fold 7"
   ]
  },
  {
   "cell_type": "code",
   "execution_count": 103,
   "metadata": {},
   "outputs": [],
   "source": [
    "y7 = train1[(train1['week'] >= 132) & (train1['week'] <= 141)]\n",
    "test_actual7 = y7[['num_orders']]\n",
    "y7 = y7.drop(['id', 'num_orders'], axis=1)\n",
    "\n",
    "x7 = train1[(train1['week'] <= 131) | (train1['week'] >= 142)]\n",
    "train_actual7 = x7[['num_orders']]\n",
    "x7 = x7.drop(['id', 'num_orders'], axis=1)"
   ]
  },
  {
   "cell_type": "code",
   "execution_count": 104,
   "metadata": {},
   "outputs": [
    {
     "data": {
      "text/plain": [
       "DecisionTreeRegressor(ccp_alpha=0.0, criterion='mse', max_depth=None,\n",
       "                      max_features=None, max_leaf_nodes=None,\n",
       "                      min_impurity_decrease=0.0, min_impurity_split=None,\n",
       "                      min_samples_leaf=1, min_samples_split=2,\n",
       "                      min_weight_fraction_leaf=0.0, presort='deprecated',\n",
       "                      random_state=None, splitter='best')"
      ]
     },
     "execution_count": 104,
     "metadata": {},
     "output_type": "execute_result"
    }
   ],
   "source": [
    "DecisionTreeRegModel.fit(x7,train_actual7)"
   ]
  },
  {
   "cell_type": "code",
   "execution_count": 105,
   "metadata": {},
   "outputs": [
    {
     "data": {
      "text/plain": [
       "array([ 95., 188., 202., ..., 391., 447., 190.])"
      ]
     },
     "execution_count": 105,
     "metadata": {},
     "output_type": "execute_result"
    }
   ],
   "source": [
    "y_orders7 = DecisionTreeRegModel.predict(y7)\n",
    "y_orders7"
   ]
  },
  {
   "cell_type": "code",
   "execution_count": 169,
   "metadata": {},
   "outputs": [
    {
     "data": {
      "text/plain": [
       "93.66910848354053"
      ]
     },
     "execution_count": 169,
     "metadata": {},
     "output_type": "execute_result"
    }
   ],
   "source": [
    "MAE_fold7 = metrics.mean_absolute_error(test_actual7, y_orders7)\n",
    "MAE_fold7"
   ]
  },
  {
   "cell_type": "raw",
   "metadata": {},
   "source": [
    "#MASE of fold7 and base model"
   ]
  },
  {
   "cell_type": "code",
   "execution_count": 170,
   "metadata": {},
   "outputs": [
    {
     "data": {
      "text/plain": [
       "0.5805949119500228"
      ]
     },
     "execution_count": 170,
     "metadata": {},
     "output_type": "execute_result"
    }
   ],
   "source": [
    "MASE_fold7 = MAE_fold7/MAE_lr \n",
    "MASE_fold7"
   ]
  },
  {
   "cell_type": "raw",
   "metadata": {},
   "source": [
    "#Fold 8"
   ]
  },
  {
   "cell_type": "code",
   "execution_count": 107,
   "metadata": {},
   "outputs": [],
   "source": [
    "y8 = train1[(train1['week'] >= 133) & (train1['week'] <= 142)]\n",
    "test_actual8 = y8[['num_orders']]\n",
    "y8 = y8.drop(['id', 'num_orders'], axis=1)\n",
    "\n",
    "x8 = train1[(train1['week'] <= 132) | (train1['week'] >= 143)]\n",
    "train_actual8 = x8[['num_orders']]\n",
    "x8 = x8.drop(['id', 'num_orders'], axis=1)"
   ]
  },
  {
   "cell_type": "code",
   "execution_count": 108,
   "metadata": {},
   "outputs": [
    {
     "data": {
      "text/plain": [
       "DecisionTreeRegressor(ccp_alpha=0.0, criterion='mse', max_depth=None,\n",
       "                      max_features=None, max_leaf_nodes=None,\n",
       "                      min_impurity_decrease=0.0, min_impurity_split=None,\n",
       "                      min_samples_leaf=1, min_samples_split=2,\n",
       "                      min_weight_fraction_leaf=0.0, presort='deprecated',\n",
       "                      random_state=None, splitter='best')"
      ]
     },
     "execution_count": 108,
     "metadata": {},
     "output_type": "execute_result"
    }
   ],
   "source": [
    "DecisionTreeRegModel.fit(x8,train_actual8)"
   ]
  },
  {
   "cell_type": "code",
   "execution_count": 109,
   "metadata": {},
   "outputs": [
    {
     "data": {
      "text/plain": [
       "array([ 94., 337., 108., ..., 391., 447., 190.])"
      ]
     },
     "execution_count": 109,
     "metadata": {},
     "output_type": "execute_result"
    }
   ],
   "source": [
    "y_orders8 = DecisionTreeRegModel.predict(y8)\n",
    "y_orders8"
   ]
  },
  {
   "cell_type": "code",
   "execution_count": 171,
   "metadata": {},
   "outputs": [
    {
     "data": {
      "text/plain": [
       "91.67408173823073"
      ]
     },
     "execution_count": 171,
     "metadata": {},
     "output_type": "execute_result"
    }
   ],
   "source": [
    "MAE_fold8 = metrics.mean_absolute_error(test_actual8, y_orders8)\n",
    "MAE_fold8"
   ]
  },
  {
   "cell_type": "raw",
   "metadata": {},
   "source": [
    "#MASE of fold8 and base model"
   ]
  },
  {
   "cell_type": "code",
   "execution_count": 172,
   "metadata": {},
   "outputs": [
    {
     "data": {
      "text/plain": [
       "0.5682290167655434"
      ]
     },
     "execution_count": 172,
     "metadata": {},
     "output_type": "execute_result"
    }
   ],
   "source": [
    "MASE_fold8 = MAE_fold8/MAE_lr \n",
    "MASE_fold8"
   ]
  },
  {
   "cell_type": "raw",
   "metadata": {},
   "source": [
    "#Fold 9"
   ]
  },
  {
   "cell_type": "code",
   "execution_count": 111,
   "metadata": {},
   "outputs": [],
   "source": [
    "y9 = train1[(train1['week'] >= 134) & (train1['week'] <= 143)]\n",
    "test_actual9 = y9[['num_orders']]\n",
    "y9 = y9.drop(['id', 'num_orders'], axis=1)\n",
    "\n",
    "x9 = train1[(train1['week'] <= 133) | (train1['week'] >= 144)]\n",
    "train_actual9 = x9[['num_orders']]\n",
    "x9 = x9.drop(['id', 'num_orders'], axis=1)"
   ]
  },
  {
   "cell_type": "code",
   "execution_count": 112,
   "metadata": {},
   "outputs": [
    {
     "data": {
      "text/plain": [
       "DecisionTreeRegressor(ccp_alpha=0.0, criterion='mse', max_depth=None,\n",
       "                      max_features=None, max_leaf_nodes=None,\n",
       "                      min_impurity_decrease=0.0, min_impurity_split=None,\n",
       "                      min_samples_leaf=1, min_samples_split=2,\n",
       "                      min_weight_fraction_leaf=0.0, presort='deprecated',\n",
       "                      random_state=None, splitter='best')"
      ]
     },
     "execution_count": 112,
     "metadata": {},
     "output_type": "execute_result"
    }
   ],
   "source": [
    "DecisionTreeRegModel.fit(x9,train_actual9)"
   ]
  },
  {
   "cell_type": "code",
   "execution_count": 113,
   "metadata": {},
   "outputs": [
    {
     "data": {
      "text/plain": [
       "array([162., 188., 162., ..., 339., 271., 190.])"
      ]
     },
     "execution_count": 113,
     "metadata": {},
     "output_type": "execute_result"
    }
   ],
   "source": [
    "y_orders9 = DecisionTreeRegModel.predict(y9)\n",
    "y_orders9"
   ]
  },
  {
   "cell_type": "code",
   "execution_count": 173,
   "metadata": {},
   "outputs": [
    {
     "data": {
      "text/plain": [
       "88.36002679495768"
      ]
     },
     "execution_count": 173,
     "metadata": {},
     "output_type": "execute_result"
    }
   ],
   "source": [
    "MAE_fold9 = metrics.mean_absolute_error(test_actual9, y_orders9)\n",
    "MAE_fold9"
   ]
  },
  {
   "cell_type": "raw",
   "metadata": {},
   "source": [
    "#MASE of fold9 and base model"
   ]
  },
  {
   "cell_type": "code",
   "execution_count": 174,
   "metadata": {},
   "outputs": [
    {
     "data": {
      "text/plain": [
       "0.5476873091616404"
      ]
     },
     "execution_count": 174,
     "metadata": {},
     "output_type": "execute_result"
    }
   ],
   "source": [
    "MASE_fold9 = MAE_fold9/MAE_lr \n",
    "MASE_fold9"
   ]
  },
  {
   "cell_type": "raw",
   "metadata": {},
   "source": [
    "#Fold 10"
   ]
  },
  {
   "cell_type": "code",
   "execution_count": 115,
   "metadata": {},
   "outputs": [],
   "source": [
    "y10 = train1[(train1['week'] >= 135) & (train1['week'] <= 144)]\n",
    "test_actual10 = y10[['num_orders']]\n",
    "y10 = y10.drop(['id', 'num_orders'], axis=1)\n",
    "\n",
    "x10 = train1[(train1['week'] <= 134) | (train1['week'] == 145)]\n",
    "train_actual10 = x10[['num_orders']]\n",
    "x10 = x10.drop(['id', 'num_orders'], axis=1)"
   ]
  },
  {
   "cell_type": "code",
   "execution_count": 116,
   "metadata": {},
   "outputs": [
    {
     "data": {
      "text/plain": [
       "DecisionTreeRegressor(ccp_alpha=0.0, criterion='mse', max_depth=None,\n",
       "                      max_features=None, max_leaf_nodes=None,\n",
       "                      min_impurity_decrease=0.0, min_impurity_split=None,\n",
       "                      min_samples_leaf=1, min_samples_split=2,\n",
       "                      min_weight_fraction_leaf=0.0, presort='deprecated',\n",
       "                      random_state=None, splitter='best')"
      ]
     },
     "execution_count": 116,
     "metadata": {},
     "output_type": "execute_result"
    }
   ],
   "source": [
    "DecisionTreeRegModel.fit(x10,train_actual10)"
   ]
  },
  {
   "cell_type": "code",
   "execution_count": 117,
   "metadata": {},
   "outputs": [
    {
     "data": {
      "text/plain": [
       "array([ 94., 176.,  80., ..., 338., 339., 149.])"
      ]
     },
     "execution_count": 117,
     "metadata": {},
     "output_type": "execute_result"
    }
   ],
   "source": [
    "y_orders10 = DecisionTreeRegModel.predict(y10)\n",
    "y_orders10"
   ]
  },
  {
   "cell_type": "code",
   "execution_count": 175,
   "metadata": {},
   "outputs": [
    {
     "data": {
      "text/plain": [
       "91.65155116718473"
      ]
     },
     "execution_count": 175,
     "metadata": {},
     "output_type": "execute_result"
    }
   ],
   "source": [
    "MAE_fold10 = metrics.mean_absolute_error(test_actual10, y_orders10)\n",
    "MAE_fold10"
   ]
  },
  {
   "cell_type": "raw",
   "metadata": {},
   "source": [
    "#MASE of fold10 and base model"
   ]
  },
  {
   "cell_type": "code",
   "execution_count": 176,
   "metadata": {},
   "outputs": [
    {
     "data": {
      "text/plain": [
       "0.568089364161559"
      ]
     },
     "execution_count": 176,
     "metadata": {},
     "output_type": "execute_result"
    }
   ],
   "source": [
    "MASE_fold10 = MAE_fold10/MAE_lr \n",
    "MASE_fold10"
   ]
  },
  {
   "cell_type": "markdown",
   "metadata": {},
   "source": [
    "# MASE table"
   ]
  },
  {
   "cell_type": "code",
   "execution_count": 181,
   "metadata": {},
   "outputs": [
    {
     "data": {
      "text/html": [
       "<div>\n",
       "<style scoped>\n",
       "    .dataframe tbody tr th:only-of-type {\n",
       "        vertical-align: middle;\n",
       "    }\n",
       "\n",
       "    .dataframe tbody tr th {\n",
       "        vertical-align: top;\n",
       "    }\n",
       "\n",
       "    .dataframe thead th {\n",
       "        text-align: right;\n",
       "    }\n",
       "</style>\n",
       "<table border=\"1\" class=\"dataframe\">\n",
       "  <thead>\n",
       "    <tr style=\"text-align: right;\">\n",
       "      <th></th>\n",
       "      <th>Id</th>\n",
       "      <th>MASE</th>\n",
       "    </tr>\n",
       "  </thead>\n",
       "  <tbody>\n",
       "    <tr>\n",
       "      <th>0</th>\n",
       "      <td>MASE_fold1</td>\n",
       "      <td>0.63082</td>\n",
       "    </tr>\n",
       "    <tr>\n",
       "      <th>1</th>\n",
       "      <td>MASE_fold2</td>\n",
       "      <td>0.66332</td>\n",
       "    </tr>\n",
       "    <tr>\n",
       "      <th>2</th>\n",
       "      <td>MASE_fold3</td>\n",
       "      <td>0.65877</td>\n",
       "    </tr>\n",
       "    <tr>\n",
       "      <th>3</th>\n",
       "      <td>MASE_fold4</td>\n",
       "      <td>0.65779</td>\n",
       "    </tr>\n",
       "    <tr>\n",
       "      <th>4</th>\n",
       "      <td>MASE_fold5</td>\n",
       "      <td>0.63109</td>\n",
       "    </tr>\n",
       "    <tr>\n",
       "      <th>5</th>\n",
       "      <td>MASE_fold6</td>\n",
       "      <td>0.59742</td>\n",
       "    </tr>\n",
       "    <tr>\n",
       "      <th>6</th>\n",
       "      <td>MASE_fold7</td>\n",
       "      <td>0.58059</td>\n",
       "    </tr>\n",
       "    <tr>\n",
       "      <th>7</th>\n",
       "      <td>MASE_fold8</td>\n",
       "      <td>0.56822</td>\n",
       "    </tr>\n",
       "    <tr>\n",
       "      <th>8</th>\n",
       "      <td>MASE_fold9</td>\n",
       "      <td>0.54768</td>\n",
       "    </tr>\n",
       "    <tr>\n",
       "      <th>9</th>\n",
       "      <td>MASE_fold10</td>\n",
       "      <td>0.56808</td>\n",
       "    </tr>\n",
       "    <tr>\n",
       "      <th>10</th>\n",
       "      <td>Average</td>\n",
       "      <td>0.61037</td>\n",
       "    </tr>\n",
       "  </tbody>\n",
       "</table>\n",
       "</div>"
      ],
      "text/plain": [
       "             Id     MASE\n",
       "0    MASE_fold1  0.63082\n",
       "1    MASE_fold2  0.66332\n",
       "2    MASE_fold3  0.65877\n",
       "3    MASE_fold4  0.65779\n",
       "4    MASE_fold5  0.63109\n",
       "5    MASE_fold6  0.59742\n",
       "6    MASE_fold7  0.58059\n",
       "7    MASE_fold8  0.56822\n",
       "8    MASE_fold9  0.54768\n",
       "9   MASE_fold10  0.56808\n",
       "10      Average  0.61037"
      ]
     },
     "execution_count": 181,
     "metadata": {},
     "output_type": "execute_result"
    }
   ],
   "source": [
    "MASE_table = pd.DataFrame({'Id':['MASE_fold1','MASE_fold2','MASE_fold3', 'MASE_fold4', 'MASE_fold5', 'MASE_fold6', 'MASE_fold7', 'MASE_fold8', 'MASE_fold9', 'MASE_fold10', 'Average'],\n",
    "                          'MASE':[0.63082,0.66332,0.65877,0.65779,0.63109,0.59742,0.58059,0.56822,0.54768,0.56808,0.61037]})\n",
    "MASE_table"
   ]
  },
  {
   "cell_type": "markdown",
   "metadata": {},
   "source": [
    "# Final Prediction"
   ]
  },
  {
   "cell_type": "raw",
   "metadata": {},
   "source": [
    "#Fold 9 hase the least MASE, so used that to predict the num_orders for weeks 146-155"
   ]
  },
  {
   "cell_type": "code",
   "execution_count": 188,
   "metadata": {},
   "outputs": [],
   "source": [
    "y9 = train1[(train1['week'] >= 134) & (train1['week'] <= 143)]\n",
    "test_actual9 = y9[['num_orders']]\n",
    "y9 = y9.drop(['id', 'num_orders'], axis=1)\n",
    "\n",
    "test_final = df_train[df_train['week'] >= 146].copy()\n",
    "x_test_final = test_final.drop(['id', 'num_orders'], axis=1)\n",
    "y_test_final = test_final['num_orders'] "
   ]
  },
  {
   "cell_type": "raw",
   "metadata": {},
   "source": [
    "#intitially I filled all the missing variables with 0, which as shown below are the actual values, and the predicted are the outcome using the decision tree regressor model"
   ]
  },
  {
   "cell_type": "code",
   "execution_count": 189,
   "metadata": {},
   "outputs": [
    {
     "data": {
      "text/html": [
       "<div>\n",
       "<style scoped>\n",
       "    .dataframe tbody tr th:only-of-type {\n",
       "        vertical-align: middle;\n",
       "    }\n",
       "\n",
       "    .dataframe tbody tr th {\n",
       "        vertical-align: top;\n",
       "    }\n",
       "\n",
       "    .dataframe thead th {\n",
       "        text-align: right;\n",
       "    }\n",
       "</style>\n",
       "<table border=\"1\" class=\"dataframe\">\n",
       "  <thead>\n",
       "    <tr style=\"text-align: right;\">\n",
       "      <th></th>\n",
       "      <th>Actual</th>\n",
       "      <th>Predicted</th>\n",
       "    </tr>\n",
       "  </thead>\n",
       "  <tbody>\n",
       "    <tr>\n",
       "      <th>456548</th>\n",
       "      <td>0.0</td>\n",
       "      <td>202.0</td>\n",
       "    </tr>\n",
       "    <tr>\n",
       "      <th>456549</th>\n",
       "      <td>0.0</td>\n",
       "      <td>189.0</td>\n",
       "    </tr>\n",
       "    <tr>\n",
       "      <th>456550</th>\n",
       "      <td>0.0</td>\n",
       "      <td>189.0</td>\n",
       "    </tr>\n",
       "    <tr>\n",
       "      <th>456551</th>\n",
       "      <td>0.0</td>\n",
       "      <td>41.0</td>\n",
       "    </tr>\n",
       "    <tr>\n",
       "      <th>456552</th>\n",
       "      <td>0.0</td>\n",
       "      <td>67.0</td>\n",
       "    </tr>\n",
       "    <tr>\n",
       "      <th>...</th>\n",
       "      <td>...</td>\n",
       "      <td>...</td>\n",
       "    </tr>\n",
       "    <tr>\n",
       "      <th>489116</th>\n",
       "      <td>0.0</td>\n",
       "      <td>95.0</td>\n",
       "    </tr>\n",
       "    <tr>\n",
       "      <th>489117</th>\n",
       "      <td>0.0</td>\n",
       "      <td>53.0</td>\n",
       "    </tr>\n",
       "    <tr>\n",
       "      <th>489118</th>\n",
       "      <td>0.0</td>\n",
       "      <td>391.0</td>\n",
       "    </tr>\n",
       "    <tr>\n",
       "      <th>489119</th>\n",
       "      <td>0.0</td>\n",
       "      <td>269.0</td>\n",
       "    </tr>\n",
       "    <tr>\n",
       "      <th>489120</th>\n",
       "      <td>0.0</td>\n",
       "      <td>204.0</td>\n",
       "    </tr>\n",
       "  </tbody>\n",
       "</table>\n",
       "<p>32573 rows × 2 columns</p>\n",
       "</div>"
      ],
      "text/plain": [
       "        Actual  Predicted\n",
       "456548     0.0      202.0\n",
       "456549     0.0      189.0\n",
       "456550     0.0      189.0\n",
       "456551     0.0       41.0\n",
       "456552     0.0       67.0\n",
       "...        ...        ...\n",
       "489116     0.0       95.0\n",
       "489117     0.0       53.0\n",
       "489118     0.0      391.0\n",
       "489119     0.0      269.0\n",
       "489120     0.0      204.0\n",
       "\n",
       "[32573 rows x 2 columns]"
      ]
     },
     "execution_count": 189,
     "metadata": {},
     "output_type": "execute_result"
    }
   ],
   "source": [
    "DecisionTreeRegModel.fit(y9,test_actual9)\n",
    "y_pred_final = DecisionTreeRegModel.predict(x_test_final)\n",
    "final_num_orders = pd.DataFrame({'Actual':y_test_final, 'Predicted':y_pred_final})\n",
    "final_num_orders"
   ]
  },
  {
   "cell_type": "code",
   "execution_count": 190,
   "metadata": {},
   "outputs": [],
   "source": [
    "final_num_orders.to_csv('num_orders.csv')"
   ]
  }
 ],
 "metadata": {
  "kernelspec": {
   "display_name": "Python 3",
   "language": "python",
   "name": "python3"
  },
  "language_info": {
   "codemirror_mode": {
    "name": "ipython",
    "version": 3
   },
   "file_extension": ".py",
   "mimetype": "text/x-python",
   "name": "python",
   "nbconvert_exporter": "python",
   "pygments_lexer": "ipython3",
   "version": "3.7.6"
  }
 },
 "nbformat": 4,
 "nbformat_minor": 4
}
